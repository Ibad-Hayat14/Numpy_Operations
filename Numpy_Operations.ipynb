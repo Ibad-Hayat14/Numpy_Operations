{
 "cells": [
  {
   "cell_type": "markdown",
   "id": "e789b7a3-de94-4dbc-89e6-f60562e6edb8",
   "metadata": {},
   "source": [
    "# Numpy Library operations"
   ]
  },
  {
   "cell_type": "code",
   "execution_count": 4,
   "id": "518eb1c4-6332-4ed3-8860-fceb04fb28c2",
   "metadata": {},
   "outputs": [],
   "source": [
    "import numpy as np"
   ]
  },
  {
   "cell_type": "markdown",
   "id": "c280a84f-619e-4658-b36e-063d6e188f93",
   "metadata": {},
   "source": [
    "## Creating a one dimension array"
   ]
  },
  {
   "cell_type": "code",
   "execution_count": 88,
   "id": "04743b0c-49d7-4da5-988a-970bbc853ae3",
   "metadata": {},
   "outputs": [
    {
     "name": "stdout",
     "output_type": "stream",
     "text": [
      "[1 2 3 4 5 7 6 6]\n"
     ]
    }
   ],
   "source": [
    "arr = np.array([1,2,3,4,5,7,6,6])\n",
    "print(arr)"
   ]
  },
  {
   "cell_type": "markdown",
   "id": "853ad282-8a42-460f-9c5f-d74f5789677e",
   "metadata": {},
   "source": [
    "## Creating a 2D array"
   ]
  },
  {
   "cell_type": "code",
   "execution_count": 18,
   "id": "b563dbdd-2d8e-4283-8c98-3814032e7c31",
   "metadata": {},
   "outputs": [
    {
     "name": "stdout",
     "output_type": "stream",
     "text": [
      "[[1 2 3]\n",
      " [4 5 6]]\n"
     ]
    }
   ],
   "source": [
    "arr2d = np.array([[1,2,3],[4,5,6]])\n",
    "print(arr2d)"
   ]
  },
  {
   "cell_type": "markdown",
   "id": "75ef65bb-add8-4a3d-8d23-71967504fab6",
   "metadata": {},
   "source": [
    "## Creating 3D array"
   ]
  },
  {
   "cell_type": "code",
   "execution_count": 22,
   "id": "e594ecec-3387-4391-b724-1d2a8ce93a87",
   "metadata": {},
   "outputs": [
    {
     "data": {
      "text/plain": [
       "array([[[1, 2],\n",
       "        [3, 4]],\n",
       "\n",
       "       [[5, 6],\n",
       "        [7, 9]]])"
      ]
     },
     "execution_count": 22,
     "metadata": {},
     "output_type": "execute_result"
    }
   ],
   "source": [
    "arr3d = np.array([[[1,2],[3,4]],[[5,6],[7,9]]])\n",
    "arr3d"
   ]
  },
  {
   "cell_type": "markdown",
   "id": "f240de87-17c0-48b1-87c2-cc3ddc641e51",
   "metadata": {},
   "source": [
    "## Finding Shape of array"
   ]
  },
  {
   "cell_type": "code",
   "execution_count": 96,
   "id": "f558d419-4f6d-4c77-a8a4-59e694461433",
   "metadata": {},
   "outputs": [
    {
     "name": "stdout",
     "output_type": "stream",
     "text": [
      "(2, 3)\n"
     ]
    }
   ],
   "source": [
    "print(arr2d.shape)"
   ]
  },
  {
   "cell_type": "markdown",
   "id": "f51e9d6f-7560-4194-af5b-a38586cc6e2d",
   "metadata": {},
   "source": [
    "## Finding the dimension of array"
   ]
  },
  {
   "cell_type": "code",
   "execution_count": 98,
   "id": "920998be-f75a-45ca-855a-cf5e028fddfd",
   "metadata": {},
   "outputs": [
    {
     "name": "stdout",
     "output_type": "stream",
     "text": [
      "2\n"
     ]
    }
   ],
   "source": [
    "print(arr2d.ndim)"
   ]
  },
  {
   "cell_type": "markdown",
   "id": "40e84984-932c-47b3-9647-1da3db8821f8",
   "metadata": {},
   "source": [
    "## Len of array"
   ]
  },
  {
   "cell_type": "code",
   "execution_count": 100,
   "id": "dba867c5-9535-40cc-b6e4-e10b292751cc",
   "metadata": {},
   "outputs": [
    {
     "name": "stdout",
     "output_type": "stream",
     "text": [
      "2\n"
     ]
    }
   ],
   "source": [
    "print(len(arr2d))"
   ]
  },
  {
   "cell_type": "markdown",
   "id": "880492b1-ea0c-4c32-904f-7d298e011ed9",
   "metadata": {},
   "source": [
    "## Size of array"
   ]
  },
  {
   "cell_type": "code",
   "execution_count": 38,
   "id": "ad764fef-1dbf-44d5-9f49-812dabf21b08",
   "metadata": {},
   "outputs": [
    {
     "data": {
      "text/plain": [
       "5"
      ]
     },
     "execution_count": 38,
     "metadata": {},
     "output_type": "execute_result"
    }
   ],
   "source": [
    "arr.size"
   ]
  },
  {
   "cell_type": "code",
   "execution_count": 40,
   "id": "a24cabf4-d1ab-4a09-a3bf-cdb1865a10d3",
   "metadata": {},
   "outputs": [
    {
     "data": {
      "text/plain": [
       "6"
      ]
     },
     "execution_count": 40,
     "metadata": {},
     "output_type": "execute_result"
    }
   ],
   "source": [
    "arr2d.size"
   ]
  },
  {
   "cell_type": "code",
   "execution_count": 42,
   "id": "37b98cbe-8eeb-44be-9344-c5428205ccce",
   "metadata": {},
   "outputs": [
    {
     "data": {
      "text/plain": [
       "8"
      ]
     },
     "execution_count": 42,
     "metadata": {},
     "output_type": "execute_result"
    }
   ],
   "source": [
    "arr3d.size\n"
   ]
  },
  {
   "cell_type": "markdown",
   "id": "eb3655a8-744c-4c17-89b5-e2143a8088c2",
   "metadata": {},
   "source": [
    "## Finding the type of element in array"
   ]
  },
  {
   "cell_type": "code",
   "execution_count": 106,
   "id": "8bda08d4-0dbd-4b41-81db-cdc78e1e4293",
   "metadata": {},
   "outputs": [
    {
     "name": "stdout",
     "output_type": "stream",
     "text": [
      "int32\n"
     ]
    }
   ],
   "source": [
    "print(arr2d.dtype)"
   ]
  },
  {
   "cell_type": "markdown",
   "id": "cf9a758f-d35d-4ca8-8342-54b2e02c6490",
   "metadata": {},
   "source": [
    "## Creating Specials array"
   ]
  },
  {
   "cell_type": "markdown",
   "id": "6b42a22c-5c35-4042-aaff-8ff0892bbab4",
   "metadata": {},
   "source": [
    "### Array of Zeros"
   ]
  },
  {
   "cell_type": "code",
   "execution_count": 66,
   "id": "81a89344-4878-4fed-8ee1-4f22f1bc9235",
   "metadata": {},
   "outputs": [
    {
     "name": "stdout",
     "output_type": "stream",
     "text": [
      "[[0. 0. 0.]\n",
      " [0. 0. 0.]]\n"
     ]
    }
   ],
   "source": [
    "zero = np.zeros((2,3))\n",
    "print(zero)"
   ]
  },
  {
   "cell_type": "markdown",
   "id": "8a55cb41-273d-4421-8122-5d8195e29abc",
   "metadata": {},
   "source": [
    "### Arrays of Ones"
   ]
  },
  {
   "cell_type": "code",
   "execution_count": 72,
   "id": "dc0c922e-f567-42c0-8270-bb42163799ca",
   "metadata": {},
   "outputs": [
    {
     "name": "stdout",
     "output_type": "stream",
     "text": [
      "[[[1. 1. 1. 1. 1. 1. 1. 1.]\n",
      "  [1. 1. 1. 1. 1. 1. 1. 1.]\n",
      "  [1. 1. 1. 1. 1. 1. 1. 1.]\n",
      "  [1. 1. 1. 1. 1. 1. 1. 1.]]\n",
      "\n",
      " [[1. 1. 1. 1. 1. 1. 1. 1.]\n",
      "  [1. 1. 1. 1. 1. 1. 1. 1.]\n",
      "  [1. 1. 1. 1. 1. 1. 1. 1.]\n",
      "  [1. 1. 1. 1. 1. 1. 1. 1.]]]\n"
     ]
    }
   ],
   "source": [
    "one = np.ones((2,4,8))\n",
    "print(one)"
   ]
  },
  {
   "cell_type": "markdown",
   "id": "dac12b0b-537e-4238-bf59-1e0c274d3eb4",
   "metadata": {},
   "source": [
    "### Identity matrix"
   ]
  },
  {
   "cell_type": "code",
   "execution_count": 76,
   "id": "6543017d-d7b5-47ee-8310-140308195066",
   "metadata": {},
   "outputs": [
    {
     "name": "stdout",
     "output_type": "stream",
     "text": [
      "[[1. 0. 0. 0.]\n",
      " [0. 1. 0. 0.]\n",
      " [0. 0. 1. 0.]\n",
      " [0. 0. 0. 1.]]\n"
     ]
    }
   ],
   "source": [
    "iden = np.eye(4)\n",
    "print(iden)"
   ]
  },
  {
   "cell_type": "markdown",
   "id": "a4cb4b9b-3d0d-4082-8cd6-e895d64b2956",
   "metadata": {},
   "source": [
    "## Creating Array with Random Numbers"
   ]
  },
  {
   "cell_type": "code",
   "execution_count": 84,
   "id": "90772ca4-df7b-41a2-a0f3-20d6cb1878f7",
   "metadata": {},
   "outputs": [
    {
     "name": "stdout",
     "output_type": "stream",
     "text": [
      "[[0.85238427 0.91984499 0.42165763]\n",
      " [0.08668586 0.20301418 0.52885703]]\n"
     ]
    }
   ],
   "source": [
    "random_array = np.random.rand(2,3)\n",
    "print(random_array)"
   ]
  },
  {
   "cell_type": "markdown",
   "id": "3acc0e01-15bd-482e-855d-63b82e0c1fd9",
   "metadata": {},
   "source": [
    "### Exercises"
   ]
  },
  {
   "cell_type": "code",
   "execution_count": 131,
   "id": "be84e213-9ebd-42c4-8aaa-20e5e583a847",
   "metadata": {},
   "outputs": [
    {
     "name": "stdout",
     "output_type": "stream",
     "text": [
      "2D NumPy array filled with numbers from 10 to 49:\n",
      "[[10 11 12 13 14]\n",
      " [15 16 17 18 19]\n",
      " [20 21 22 23 24]\n",
      " [25 26 27 28 29]]\n"
     ]
    }
   ],
   "source": [
    "import numpy as np\n",
    "\n",
    "# Create a 2D array with numbers from 10 to 49 (40 elements to fit into 4x5)\n",
    "array = np.arange(10, 30).reshape(4, 5)\n",
    "\n",
    "print(\"2D NumPy array filled with numbers from 10 to 49:\")\n",
    "print(array)\n"
   ]
  },
  {
   "cell_type": "code",
   "execution_count": 5,
   "id": "5fcc7517-aa33-4431-b48e-8759e8f0355b",
   "metadata": {},
   "outputs": [
    {
     "name": "stdout",
     "output_type": "stream",
     "text": [
      " Array of 20 equally spaced numbers between 5 and 15 \n",
      "[ 5.          5.52631579  6.05263158  6.57894737  7.10526316  7.63157895\n",
      "  8.15789474  8.68421053  9.21052632  9.73684211 10.26315789 10.78947368\n",
      " 11.31578947 11.84210526 12.36842105 12.89473684 13.42105263 13.94736842\n",
      " 14.47368421 15.        ]\n"
     ]
    }
   ],
   "source": [
    "import numpy as np\n",
    "\n",
    "# Generate an array of 20 equally spaced numbers between 5 and 15\n",
    "array = np.linspace(5,15,20)\n",
    "\n",
    "print(\" Array of 20 equally spaced numbers between 5 and 15: \")\n",
    "print(array)"
   ]
  },
  {
   "cell_type": "code",
   "execution_count": 13,
   "id": "a5f62f4b-b0b5-4a4a-aa76-bf9e95bc8e9d",
   "metadata": {},
   "outputs": [
    {
     "name": "stdout",
     "output_type": "stream",
     "text": [
      "Array of random number between 1 and 101 0f size 3 x 3 \n",
      "[[14 15 98]\n",
      " [80 89 35]\n",
      " [80 62 86]]\n"
     ]
    }
   ],
   "source": [
    "import numpy as np \\\n",
    "\n",
    "#  Generate an Array of random number between 1 and 101 0f size 3 x 3 \n",
    "array = np.random.randint(1,101, size = (3,3))\n",
    "\n",
    "print(\"Array of random number between 1 and 101 0f size 3 x 3 \")\n",
    "print(array)"
   ]
  },
  {
   "cell_type": "code",
   "execution_count": 21,
   "id": "caae3a16-b0ff-47a4-820c-bb5eec16d391",
   "metadata": {},
   "outputs": [
    {
     "name": "stdout",
     "output_type": "stream",
     "text": [
      "Orginal array:  [1 2 3 4 5]\n",
      "Orginal array datatypes:  int32\n",
      "\n",
      "Modified array:  [1. 2. 3. 4. 5.]\n",
      "Modified array datatypes:  float64\n"
     ]
    }
   ],
   "source": [
    "## Conveting datatype of element in an array\n",
    "\n",
    "import numpy as np \n",
    "\n",
    "# Creating array\n",
    "arr = np.array([1,2,3,4,5])\n",
    "\n",
    "print(\"Orginal array: \", arr)\n",
    "print(\"Orginal array datatypes: \", arr.dtype)\n",
    "\n",
    "if arr.dtype != np.float64:\n",
    "    arr = arr.astype(np.float64)\n",
    "\n",
    "print(\"\\nModified array: \", arr)\n",
    "print(\"Modified array datatypes: \", arr.dtype)"
   ]
  },
  {
   "cell_type": "code",
   "execution_count": 35,
   "id": "e800b167-17d4-4c8e-9c52-aef8539ce69e",
   "metadata": {},
   "outputs": [
    {
     "name": "stdout",
     "output_type": "stream",
     "text": [
      "Array contains only integers. Processing...\n",
      "Array does not contain only integers. No changes made.\n",
      "Orginal array 1:  [1 2 3 4 5]\n",
      "P[rocess array 1:  [1.5 2.5 3.5 4.5 5.5]\n",
      "Orginal array 2:  [1.1 2.2 3.3 4.4 5.5]\n",
      "Process array 2:  [1.1 2.2 3.3 4.4 5.5]\n"
     ]
    }
   ],
   "source": [
    "import numpy as np\n",
    "\n",
    "# Creating two arrya with int and float datatype\n",
    "\n",
    "arr1 = np.array([1,2,3,4,5])\n",
    "arr2 = np.array([1.1,2.2, 3.3, 4.4, 5.5])\n",
    "\n",
    "def process_array(arr):\n",
    "    if np.issubdtype(arr.dtype , np.integer):\n",
    "        print(\"Array contains only integers. Processing...\")\n",
    "        arr = arr.astype(np.float64) + 0.5 \n",
    "    else:\n",
    "        print(\"Array does not contain only integers. No changes made.\")\n",
    "    return arr\n",
    "\n",
    "# Test the function on the arrays\n",
    "process_array1 = process_array(arr1)\n",
    "process_array2 = process_array(arr2)\n",
    "\n",
    "print(\"Orginal array 1: \", arr1)\n",
    "print(\"P[rocess array 1: \", process_array1)\n",
    "print(\"Orginal array 2: \", arr2)\n",
    "print(\"Process array 2: \", process_array2)"
   ]
  },
  {
   "cell_type": "code",
   "execution_count": 41,
   "id": "17880abe-80d2-4608-ae99-557db4db17c3",
   "metadata": {},
   "outputs": [
    {
     "name": "stdout",
     "output_type": "stream",
     "text": [
      "[[0. 0. 0. 0.]\n",
      " [0. 0. 0. 0.]\n",
      " [0. 0. 0. 0.]\n",
      " [0. 0. 0. 0.]]\n"
     ]
    }
   ],
   "source": [
    "import numpy as np \n",
    "\n",
    "zero = np.zeros((4,4))\n",
    "print(zero)"
   ]
  },
  {
   "cell_type": "code",
   "execution_count": 43,
   "id": "a9546fb4-7ad1-4f67-917f-8eff342ec186",
   "metadata": {},
   "outputs": [
    {
     "name": "stdout",
     "output_type": "stream",
     "text": [
      "[[1. 1. 1. 1. 1.]\n",
      " [1. 1. 1. 1. 1.]\n",
      " [1. 1. 1. 1. 1.]]\n"
     ]
    }
   ],
   "source": [
    "import numpy as np \n",
    "\n",
    "one = np.ones((3,5))\n",
    "print(one)"
   ]
  },
  {
   "cell_type": "code",
   "execution_count": 45,
   "id": "4cc94dfa-a742-4025-a8f6-dd0688cfbc56",
   "metadata": {},
   "outputs": [
    {
     "name": "stdout",
     "output_type": "stream",
     "text": [
      "[[1. 0. 0. 0. 0.]\n",
      " [0. 1. 0. 0. 0.]\n",
      " [0. 0. 1. 0. 0.]\n",
      " [0. 0. 0. 1. 0.]\n",
      " [0. 0. 0. 0. 1.]]\n"
     ]
    }
   ],
   "source": [
    "import numpy as np\n",
    "\n",
    "iden = np.eye(5)\n",
    "print(iden)"
   ]
  },
  {
   "cell_type": "code",
   "execution_count": 49,
   "id": "34b18381-d836-4c3e-bf70-f58eed513177",
   "metadata": {},
   "outputs": [
    {
     "name": "stdout",
     "output_type": "stream",
     "text": [
      "Orignal array with random numbers.\n",
      "[[0.79885241 0.69655116 0.47574623 0.31589414]\n",
      " [0.48155971 0.17621526 0.50542082 0.44475409]\n",
      " [0.09716199 0.45250377 0.08871718 0.13147399]]\n",
      "Array with rounded number ti 2 decimal placve\n",
      "[[0.8  0.7  0.48 0.32]\n",
      " [0.48 0.18 0.51 0.44]\n",
      " [0.1  0.45 0.09 0.13]]\n"
     ]
    }
   ],
   "source": [
    "import numpy as np \n",
    "\n",
    "random_array = np.random.random((3,4))\n",
    "\n",
    "rounded_array = np.round(random_array , 2)\n",
    "\n",
    "print(\"Orignal array with random numbers.\")\n",
    "print(random_array)\n",
    "\n",
    "print(\"Array with rounded number ti 2 decimal placve\")\n",
    "print(rounded_array)"
   ]
  },
  {
   "cell_type": "markdown",
   "id": "7a2ee703-cec5-4a76-b11c-7526bd561502",
   "metadata": {},
   "source": [
    "## Mathematical Operation using Numpy"
   ]
  },
  {
   "cell_type": "code",
   "execution_count": 6,
   "id": "1496def8-d684-4ee4-96c9-add095cad1fd",
   "metadata": {},
   "outputs": [
    {
     "name": "stdout",
     "output_type": "stream",
     "text": [
      "Addition:  [6 6 5 7 6]\n",
      "Subtraction:  [ 4  2 -1 -1 -4]\n",
      "Multiplication:  [ 5  8  6 12  5]\n",
      "Division:  [5.         2.         0.66666667 0.75       0.2       ]\n"
     ]
    }
   ],
   "source": [
    "import numpy as np\n",
    "\n",
    "arr1 = np.array([1,2,3,4,5])\n",
    "arr2 = np.array([5,4,2,3,1])\n",
    "\n",
    "add = arr1 + arr2\n",
    "sub = arr2-arr1\n",
    "product = arr1*arr2\n",
    "div = arr2/arr1\n",
    "\n",
    "print(\"Addition: \",add)\n",
    "print(\"Subtraction: \",sub)\n",
    "print(\"Multiplication: \", product)\n",
    "print(\"Division: \",div)"
   ]
  },
  {
   "cell_type": "markdown",
   "id": "d1dacea0-b4dd-44a2-8e75-bbc21312e6e8",
   "metadata": {},
   "source": [
    "## Aggregation with numpy"
   ]
  },
  {
   "cell_type": "code",
   "execution_count": 14,
   "id": "1ec14b48-2424-44c7-a4df-0faf7e956ea3",
   "metadata": {},
   "outputs": [
    {
     "name": "stdout",
     "output_type": "stream",
     "text": [
      "Sum of all the data is: 300\n",
      "Mean of the data is: 33.333333333333336\n",
      "Standard Deviation of data is: 30.38640046687553\n",
      "Median of the data is: 23.0\n"
     ]
    }
   ],
   "source": [
    "data = [1,23,45,67,89,3,2,14,56]\n",
    "\n",
    "Sum = np.sum(data)\n",
    "Mean = np.mean(data)\n",
    "Std = np.std(data)\n",
    "Median = np.median(data)\n",
    "\n",
    "print(f\"Sum of all the data is: {Sum}\")\n",
    "print(f\"Mean of the data is: {Mean}\")\n",
    "print(f\"Standard Deviation of data is: {Std}\")\n",
    "print(f\"Median of the data is: {Median}\")"
   ]
  },
  {
   "cell_type": "code",
   "execution_count": 16,
   "id": "90f13867-85d7-43d1-9a43-3a0a9c8dc606",
   "metadata": {},
   "outputs": [],
   "source": [
    "## Reshaping and resizing array and matrix"
   ]
  },
  {
   "cell_type": "code",
   "execution_count": 20,
   "id": "1eb20b4f-864f-47a8-a99b-9ecb83d25486",
   "metadata": {},
   "outputs": [
    {
     "name": "stdout",
     "output_type": "stream",
     "text": [
      "3x4 Matrix:\n",
      " [[ 0  1  2  3]\n",
      " [ 4  5  6  7]\n",
      " [ 8  9 10 11]]\n",
      "2x6 Matrix:\n",
      " [[ 0  1  2  3  4  5]\n",
      " [ 6  7  8  9 10 11]]\n"
     ]
    }
   ],
   "source": [
    "## reshaping an array\n",
    "\n",
    "array = np.arange(12)\n",
    "\n",
    "reshape_3x4 = array.reshape(3,4)\n",
    "reshape_2x6 = array.reshape(2,6)\n",
    "\n",
    "print(\"3x4 Matrix:\\n\", reshape_3x4)\n",
    "print(\"2x6 Matrix:\\n\", reshape_2x6)"
   ]
  },
  {
   "cell_type": "code",
   "execution_count": 30,
   "id": "54324140-f266-41ab-a1cc-3cc2a85df7ec",
   "metadata": {},
   "outputs": [
    {
     "name": "stdout",
     "output_type": "stream",
     "text": [
      "Flattened Array: [1 2 3 4 5 6 6 9 8]\n"
     ]
    }
   ],
   "source": [
    "## Resizing matrix to array\n",
    "matrix = np.array([[1,2,3],[4,5,6],[6,9,8]])\n",
    "flattened = matrix.flatten()\n",
    "\n",
    "print(f\"Flattened Array: {flattened}\")"
   ]
  },
  {
   "cell_type": "code",
   "execution_count": 34,
   "id": "1c780693-57db-426e-a425-ed3f2f965d1b",
   "metadata": {},
   "outputs": [
    {
     "name": "stdout",
     "output_type": "stream",
     "text": [
      "5\n",
      "[6 9 8]\n",
      "[2 5 9]\n"
     ]
    }
   ],
   "source": [
    "arr = np.array([[1,2,3],[4,5,6],[6,9,8]])\n",
    "\n",
    "#finding any spedific element like 5 in this case\n",
    "element = arr[1,1]\n",
    "print(element)\n",
    "\n",
    "#printing any specific row\n",
    "row_3 = arr[2,:]\n",
    "print(row_3)\n",
    "\n",
    "middle_col = arr[:,1]\n",
    "print(middle_col)"
   ]
  },
  {
   "cell_type": "code",
   "execution_count": 44,
   "id": "7e752eb7-c42b-4b45-9baa-2d1933bb8b98",
   "metadata": {},
   "outputs": [
    {
     "name": "stdout",
     "output_type": "stream",
     "text": [
      "First 5 element of array: [0 1 2 3 4]\n",
      "Last 5 element of array: [ 7  8  9 10 11]\n",
      "Every element of array: [ 0  2  4  6  8 10]\n"
     ]
    }
   ],
   "source": [
    "## Slicing \n",
    "\n",
    "arr = np.arange(12)\n",
    "first_5 = arr[:5]\n",
    "last_5 =  arr[7:]\n",
    "every_2nd = arr[::2]\n",
    "\n",
    "print(f\"First 5 element of array: {first_5}\")\n",
    "print(f\"Last 5 element of array: {last_5}\")\n",
    "print(f\"Every element of array: {every_2nd}\")"
   ]
  },
  {
   "cell_type": "code",
   "execution_count": 50,
   "id": "a93d8543-9e2a-4ef2-9b99-e9fa947daace",
   "metadata": {},
   "outputs": [
    {
     "name": "stdout",
     "output_type": "stream",
     "text": [
      "[[ 0]\n",
      " [ 1]\n",
      " [ 4]\n",
      " [ 9]\n",
      " [16]]\n"
     ]
    }
   ],
   "source": [
    "# Generate a 5x5 matrix where each element is the square of its row index\n",
    "rows = np.arange(5).reshape(-1,1)\n",
    "matrix = rows**2\n",
    "print(matrix)"
   ]
  },
  {
   "cell_type": "code",
   "execution_count": 60,
   "id": "b6485e52-5cfe-4126-866f-75ec5619f124",
   "metadata": {},
   "outputs": [
    {
     "name": "stdout",
     "output_type": "stream",
     "text": [
      "[23  0  0  0  7  0  0  0  0  0]\n"
     ]
    }
   ],
   "source": [
    "# Replace values greater than 50 with 0\n",
    "random_array = np.random.randint(1,50,10)\n",
    "random_array[random_array >30] = 0\n",
    "print(random_array)"
   ]
  },
  {
   "cell_type": "code",
   "execution_count": 62,
   "id": "081b619a-8388-456b-9a4f-b8e8b3d3c5e1",
   "metadata": {},
   "outputs": [
    {
     "name": "stdout",
     "output_type": "stream",
     "text": [
      "Diagonal Matrix:\n",
      " [[10  0  0  0]\n",
      " [ 0 20  0  0]\n",
      " [ 0  0 30  0]\n",
      " [ 0  0  0 40]]\n",
      "\n",
      "5x5 Random Matrix:\n",
      " [[65  1 46 43 12]\n",
      " [56 63  3 31 56]\n",
      " [52 82 61 35 57]\n",
      " [63 71 71 95 96]\n",
      " [43 13 29 11 16]]\n",
      "\n",
      "Original 3D Array:\n",
      " [[[90 49  5  5]\n",
      "  [54 58 45 81]\n",
      "  [29 75 20 97]]\n",
      "\n",
      " [[40 86 61 80]\n",
      "  [94 63 28 50]\n",
      "  [81 51 49 19]]]\n",
      "\n",
      "2x4 Sub-array:\n",
      " [[90 49]\n",
      " [54 58]\n",
      " [29 75]]\n"
     ]
    }
   ],
   "source": [
    "# Create a diagonal matrix\n",
    "diag_matrix = np.diag([10, 20, 30, 40])\n",
    "print(\"Diagonal Matrix:\\n\", diag_matrix)\n",
    "\n",
    "# Function to generate n x n random matrix\n",
    "def random_matrix(n):\n",
    "    return np.random.randint(1, 100, (n, n))\n",
    "\n",
    "print(\"\\n5x5 Random Matrix:\\n\", random_matrix(5))\n",
    "\n",
    "# Create a 3D array and extract a sub-array\n",
    "array_3d = np.random.randint(1, 100, (2, 3, 4))  # Shape (2, 3, 4)\n",
    "sub_array = array_3d[0, :, :]  # Extract the first \"layer\"\n",
    "print(\"\\nOriginal 3D Array:\\n\", array_3d)\n",
    "print(\"\\n2x4 Sub-array:\\n\", sub_array[:, :2])  # Extract a 2x4 sub-array\n"
   ]
  },
  {
   "cell_type": "code",
   "execution_count": 10,
   "id": "2b5686eb-15c9-4514-b837-eb9b3ed6fcc9",
   "metadata": {},
   "outputs": [
    {
     "data": {
      "text/plain": [
       "array([ 1.98931181e-01, -1.69679397e+00,  7.88245388e-01, -2.00992879e-03,\n",
       "        4.37156929e-01,  1.84437488e+00,  6.89268923e-01, -3.18115881e-01,\n",
       "        3.76754425e-01, -9.87486410e-01, -1.39025914e+00, -7.12186787e-01,\n",
       "        1.03723614e+00, -9.59622266e-01, -1.71880737e+00, -5.23264424e-01,\n",
       "       -4.32673921e-01,  2.00005057e+00,  5.95227943e-01, -2.72902229e+00,\n",
       "        3.20376378e-01, -3.81532664e-01,  7.27434226e-01,  1.52768004e+00,\n",
       "       -9.08873733e-01, -1.53661236e+00, -7.50569318e-02,  2.02420240e-01,\n",
       "       -1.92792874e+00, -1.96340825e+00, -4.98705525e-01,  4.58616335e-02,\n",
       "        3.59551243e-01, -2.31919307e-01,  2.05949425e-01,  1.09921088e+00,\n",
       "       -3.64130111e-01, -1.12163453e+00, -3.93999346e-01, -5.51985203e-01,\n",
       "        1.83775655e-01,  7.14131281e-02,  2.65411206e-01,  2.13212098e+00,\n",
       "       -1.26130347e+00, -4.04086687e-01,  7.78393192e-01, -5.04081490e-01,\n",
       "        4.87124559e-01,  1.81502982e+00])"
      ]
     },
     "execution_count": 10,
     "metadata": {},
     "output_type": "execute_result"
    }
   ],
   "source": [
    "x = np.random.normal(size=50)\n",
    "x"
   ]
  },
  {
   "cell_type": "code",
   "execution_count": 12,
   "id": "28c9707a-572a-4901-a0e5-85cbb88058bf",
   "metadata": {},
   "outputs": [
    {
     "data": {
      "text/plain": [
       "array([49.96837954, 49.92955794, 52.0793415 , 50.28256343, 48.7761297 ,\n",
       "       52.0246958 , 50.30224344, 49.95178287, 49.63303659, 49.1061186 ,\n",
       "       48.9425921 , 48.88988634, 51.30175124, 49.42733794, 47.72945355,\n",
       "       49.74605148, 49.38082901, 52.9896538 , 49.61228901, 45.14198819,\n",
       "       49.21281613, 50.19305093, 49.46359203, 51.65921098, 48.47624891,\n",
       "       49.68487373, 50.62402394, 49.67841839, 47.79603838, 48.50638418,\n",
       "       50.43200448, 49.32317253, 50.6774542 , 50.27737999, 50.61870956,\n",
       "       49.12800984, 49.3313797 , 49.32914072, 50.06637094, 49.92739921,\n",
       "       51.00978489, 51.09048537, 48.85885279, 52.06250901, 50.18707816,\n",
       "       49.02554711, 50.62850229, 50.19578088, 52.1822941 , 49.74894658])"
      ]
     },
     "execution_count": 12,
     "metadata": {},
     "output_type": "execute_result"
    }
   ],
   "source": [
    "y = x + np.random.normal(loc=50, scale=1, size=50)\n",
    "y"
   ]
  },
  {
   "cell_type": "code",
   "execution_count": 14,
   "id": "6f239357-f472-4f63-8713-4aa28bd0957a",
   "metadata": {},
   "outputs": [
    {
     "data": {
      "text/plain": [
       "array([[1.        , 0.71600291],\n",
       "       [0.71600291, 1.        ]])"
      ]
     },
     "execution_count": 14,
     "metadata": {},
     "output_type": "execute_result"
    }
   ],
   "source": [
    "np.corrcoef(x,y)"
   ]
  },
  {
   "cell_type": "code",
   "execution_count": null,
   "id": "07edf0ec-a1ff-49b4-8d6f-0ef2d833890e",
   "metadata": {},
   "outputs": [],
   "source": []
  },
  {
   "cell_type": "markdown",
   "id": "c16254e6",
   "metadata": {},
   "source": [
    "### Using `np.where()` for Conditional Selection"
   ]
  },
  {
   "cell_type": "code",
   "execution_count": null,
   "id": "b862cbcf",
   "metadata": {},
   "outputs": [],
   "source": [
    "arr = np.array([10, 15, 20, 25, 30])\n",
    "result = np.where(arr > 20)\n",
    "print(\"Indices where arr > 20:\", result)"
   ]
  },
  {
   "cell_type": "markdown",
   "id": "5e2f7053",
   "metadata": {},
   "source": [
    "### Logical Checks with np.any() and np.all()"
   ]
  },
  {
   "cell_type": "code",
   "execution_count": null,
   "id": "0ba1d5bd",
   "metadata": {},
   "outputs": [],
   "source": [
    "arr = np.array([True, False, True])\n",
    "print(\"Any True:\", np.any(arr))\n",
    "print(\"All True:\", np.all(arr))"
   ]
  },
  {
   "cell_type": "markdown",
   "id": "a99006d2",
   "metadata": {},
   "source": [
    "### Set Operations"
   ]
  },
  {
   "cell_type": "code",
   "execution_count": null,
   "id": "92d3c289",
   "metadata": {},
   "outputs": [],
   "source": [
    "a = np.array([1, 2, 3, 4])\n",
    "b = np.array([3, 4, 5, 6])\n",
    "print(\"Union:\", np.union1d(a, b))\n",
    "print(\"Intersection:\", np.intersect1d(a, b))\n",
    "print(\"Set Difference (a - b):\", np.setdiff1d(a, b))"
   ]
  },
  {
   "cell_type": "markdown",
   "id": "f9833f4e",
   "metadata": {},
   "source": [
    "### Broadcasting Example"
   ]
  },
  {
   "cell_type": "code",
   "execution_count": null,
   "id": "8d2aeba7",
   "metadata": {},
   "outputs": [],
   "source": [
    "arr = np.array([[1, 2, 3], [4, 5, 6]])\n",
    "broadcasted = arr + 10\n",
    "print(broadcasted)"
   ]
  },
  {
   "cell_type": "markdown",
   "id": "9aaa3869",
   "metadata": {},
   "source": [
    "### Boolean Indexing"
   ]
  },
  {
   "cell_type": "code",
   "execution_count": null,
   "id": "a35d3d91",
   "metadata": {},
   "outputs": [],
   "source": [
    "arr = np.array([5, 10, 15, 20, 25])\n",
    "print(\"Elements greater than 15:\", arr[arr > 15])"
   ]
  },
  {
   "cell_type": "markdown",
   "id": "e21b2c4f",
   "metadata": {},
   "source": [
    "### Using np.clip() to Limit Values"
   ]
  },
  {
   "cell_type": "code",
   "execution_count": null,
   "id": "d53aa1d7",
   "metadata": {},
   "outputs": [],
   "source": [
    "arr = np.array([10, 50, 100, 150])\n",
    "clipped = np.clip(arr, 30, 120)\n",
    "print(\"Clipped Array:\", clipped)"
   ]
  },
  {
   "cell_type": "markdown",
   "id": "89ff6d5e",
   "metadata": {},
   "source": [
    "### Understanding Copy vs View in NumPy"
   ]
  },
  {
   "cell_type": "code",
   "execution_count": null,
   "id": "110351b2",
   "metadata": {},
   "outputs": [],
   "source": [
    "arr = np.array([1, 2, 3, 4])\n",
    "view_arr = arr.view()\n",
    "copy_arr = arr.copy()\n",
    "\n",
    "arr[0] = 99\n",
    "print(\"Original:\", arr)\n",
    "print(\"View:\", view_arr)\n",
    "print(\"Copy:\", copy_arr)"
   ]
  },
  {
   "cell_type": "markdown",
   "id": "bba18c9d",
   "metadata": {},
   "source": [
    "### Random Sampling using np.random"
   ]
  },
  {
   "cell_type": "code",
   "execution_count": null,
   "id": "b0a3ce21",
   "metadata": {},
   "outputs": [],
   "source": [
    "rand_arr = np.random.randint(1, 100, size=(3, 3))\n",
    "print(\"Random Integer Array:\\n\", rand_arr)"
   ]
  },
  {
   "cell_type": "markdown",
   "id": "6ec5796e",
   "metadata": {},
   "source": [
    "### Linear Algebra Operations"
   ]
  },
  {
   "cell_type": "code",
   "execution_count": null,
   "id": "df5c09bf",
   "metadata": {},
   "outputs": [],
   "source": [
    "a = np.array([[1, 2], [3, 4]])\n",
    "b = np.array([[5, 6], [7, 8]])\n",
    "\n",
    "print(\"Dot product:\\n\", np.dot(a, b))\n",
    "print(\"Matrix inverse:\\n\", np.linalg.inv(np.array([[1, 2], [3, 4]])))"
   ]
  },
  {
   "cell_type": "markdown",
   "id": "f7b3c551",
   "metadata": {},
   "source": [
    "### Saving and Loading NumPy Arrays"
   ]
  },
  {
   "cell_type": "code",
   "execution_count": null,
   "id": "a10d3617",
   "metadata": {},
   "outputs": [],
   "source": [
    "arr = np.array([1, 2, 3, 4, 5])\n",
    "np.save('my_array.npy', arr)\n",
    "loaded = np.load('my_array.npy')\n",
    "print(\"Loaded Array:\", loaded)"
   ]
  },
  {
   "cell_type": "markdown",
   "id": "59340cb3",
   "metadata": {},
   "source": [
    "## Summary"
   ]
  },
  {
   "cell_type": "markdown",
   "id": "18afd93f",
   "metadata": {},
   "source": [
    "In this notebook, I covered key NumPy operations including array creation, reshaping, mathematical operations, conditional selections, broadcasting, and more. This provides a solid foundation for data analysis and scientific computing with Python."
   ]
  }
 ],
 "metadata": {
  "kernelspec": {
   "display_name": "Python 3 (ipykernel)",
   "language": "python",
   "name": "python3"
  },
  "language_info": {
   "codemirror_mode": {
    "name": "ipython",
    "version": 3
   },
   "file_extension": ".py",
   "mimetype": "text/x-python",
   "name": "python",
   "nbconvert_exporter": "python",
   "pygments_lexer": "ipython3",
   "version": "3.12.7"
  }
 },
 "nbformat": 4,
 "nbformat_minor": 5
}
